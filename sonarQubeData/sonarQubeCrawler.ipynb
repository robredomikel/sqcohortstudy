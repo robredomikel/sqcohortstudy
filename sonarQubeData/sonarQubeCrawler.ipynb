{
 "cells": [
  {
   "cell_type": "code",
   "execution_count": 9,
   "metadata": {
    "collapsed": true
   },
   "outputs": [],
   "source": [
    "import os\n",
    "from pprint import pprint\n",
    "import requests\n",
    "import pandas as pd\n",
    "import numpy as np\n",
    "import time\n",
    "import csv\n",
    "import json\n",
    "from sonarqube import SonarCloudClient\n",
    "\n",
    "sonarQubeToken = \"ffa76e65d2fee1a592f80aebe2806ddf19361935\""
   ]
  },
  {
   "cell_type": "markdown",
   "source": [
    "# REQUEST APPROACH \"api/project_analyses\""
   ],
   "metadata": {
    "collapsed": false
   }
  },
  {
   "cell_type": "code",
   "execution_count": 32,
   "outputs": [],
   "source": [
    "token = os.getenv('GITHUB_TOKEN', sonarQubeToken)\n",
    "headers = {'Authorization': f'token {token}'}\n",
    "\n",
    "response = requests.get(\"https://sonarcloud.io/api/project_analyses/search?project=apache_ofbiz-framework\", headers=headers)"
   ],
   "metadata": {
    "collapsed": false
   }
  },
  {
   "cell_type": "code",
   "execution_count": 47,
   "outputs": [],
   "source": [
    "initial_json = response.json()"
   ],
   "metadata": {
    "collapsed": false
   }
  },
  {
   "cell_type": "code",
   "execution_count": 48,
   "outputs": [
    {
     "data": {
      "text/plain": "dict_keys(['paging', 'analyses'])"
     },
     "execution_count": 48,
     "metadata": {},
     "output_type": "execute_result"
    }
   ],
   "source": [
    "initial_json.keys()"
   ],
   "metadata": {
    "collapsed": false
   }
  },
  {
   "cell_type": "code",
   "execution_count": 51,
   "outputs": [
    {
     "data": {
      "text/plain": "[{'key': 'AYZzBllZinEf6-BYjIgi',\n  'date': '2023-02-21T09:12:18+0100',\n  'events': [{'key': 'AYZzCV4lG_1_VFAZ_Ngo',\n    'category': 'VERSION',\n    'name': 'not provided'}],\n  'projectVersion': 'not provided',\n  'manualNewCodePeriodBaseline': False,\n  'revision': '42bdd084e681268d8301f9c586c13eea5afd6d9b'},\n {'key': 'AYZlagVwRJ73ECh412cw',\n  'date': '2023-02-18T17:45:53+0100',\n  'events': [],\n  'projectVersion': 'not provided',\n  'manualNewCodePeriodBaseline': False,\n  'revision': '960a3948efce4d1078a0db30a5683906ef127325'},\n {'key': 'AYZf7yAFnWiz3TX-KkCm',\n  'date': '2023-02-17T16:13:53+0100',\n  'events': [],\n  'projectVersion': 'not provided',\n  'manualNewCodePeriodBaseline': False,\n  'revision': 'a0954d208587603502ee7bdaa8d306fbfa5ec3d6'},\n {'key': 'AYZbbisbF596LrsuM78q',\n  'date': '2023-02-16T19:14:16+0100',\n  'events': [],\n  'projectVersion': 'not provided',\n  'manualNewCodePeriodBaseline': False,\n  'revision': 'b63f7e229c8693cfe4398e1da8e4cfcb610b3f3d'},\n {'key': 'AYZUeQWDPFJqLJ0Yh_EF',\n  'date': '2023-02-15T10:50:39+0100',\n  'events': [],\n  'projectVersion': 'not provided',\n  'manualNewCodePeriodBaseline': False,\n  'revision': 'a615e9029db5da4c81578d61b6aca7a8f82a2316'},\n {'key': 'AYZQix2YeAQN1kY9VCjS',\n  'date': '2023-02-14T16:31:14+0100',\n  'events': [],\n  'projectVersion': 'not provided',\n  'manualNewCodePeriodBaseline': False,\n  'revision': '5622843b06392a6f614e942ad36493eeceaf433e'},\n {'key': 'AYY6sbh_z9_vYY60XoKz',\n  'date': '2023-02-10T10:40:55+0100',\n  'events': [],\n  'projectVersion': 'not provided',\n  'manualNewCodePeriodBaseline': False,\n  'revision': '3c0cec35a563cc17ec7a6cbc0e4945dc9914edd1'},\n {'key': 'AYYcpyo6d4fyBpFb1Un2',\n  'date': '2023-02-04T14:40:32+0100',\n  'events': [],\n  'projectVersion': 'not provided',\n  'manualNewCodePeriodBaseline': False,\n  'revision': 'e7ea8ecdbb97fef749a491735fd2526d3e7ec312'},\n {'key': 'AYX0YFByIVI-lWF9kuIh',\n  'date': '2023-01-27T18:58:04+0100',\n  'events': [],\n  'projectVersion': 'not provided',\n  'manualNewCodePeriodBaseline': False,\n  'revision': '41c0c9e0bdb2a9568092d78e75f3f757e3592dd4'},\n {'key': 'AYXTd4EWZQYhTpuilsb5',\n  'date': '2023-01-21T09:35:56+0100',\n  'events': [],\n  'projectVersion': 'not provided',\n  'manualNewCodePeriodBaseline': False,\n  'revision': '899f2939b3963639429bffd7b47458f4b248c3c9'},\n {'key': 'AYTsBOe64b7TehG528VA',\n  'date': '2022-12-07T10:58:44+0100',\n  'events': [{'key': 'AYTsB9BL0tNVJx5ycbqD',\n    'category': 'QUALITY_PROFILE',\n    'name': \"Changes in 'Sonar way' (js)\"}],\n  'projectVersion': 'not provided',\n  'manualNewCodePeriodBaseline': False,\n  'revision': '0e931d5ae4445c8e3a800d552ddacec2940941ba'},\n {'key': 'AYRg63Q0sN8HJDnKF-BZ',\n  'date': '2022-11-10T10:43:37+0100',\n  'events': [{'key': 'AYRg7eGXFauHiFyQwDOU',\n    'category': 'QUALITY_PROFILE',\n    'name': \"Changes in 'Sonar way' (js)\"}],\n  'projectVersion': 'not provided',\n  'manualNewCodePeriodBaseline': False,\n  'revision': 'acba2eeaaca3719b657c715edd3023d1f6f5554f'},\n {'key': 'AYQKWt3TY1Rbng6V2BRZ',\n  'date': '2022-10-24T16:18:45+0200',\n  'events': [],\n  'projectVersion': 'not provided',\n  'manualNewCodePeriodBaseline': False,\n  'revision': '12057a6c638d04d3fa95184a18665a938d595bdd'},\n {'key': 'AYOONQZMHGY67mfVgJN7',\n  'date': '2022-09-30T13:44:06+0200',\n  'events': [],\n  'projectVersion': 'not provided',\n  'manualNewCodePeriodBaseline': False,\n  'revision': '1e1f635b81a7928f5c00b9e1874eda8bc6ab3d9d'},\n {'key': 'AYKWGHqFaeUKabdnvPmy',\n  'date': '2022-08-13T09:26:59+0200',\n  'events': [{'key': 'AYKWG2jlEkPBL9VHsHci',\n    'category': 'QUALITY_PROFILE',\n    'name': \"Changes in 'Sonar way' (js)\"}],\n  'projectVersion': 'not provided',\n  'manualNewCodePeriodBaseline': False,\n  'revision': '42f3e6cf70c2171a8d8c6a7c74c33d95cf9ea7f9'},\n {'key': 'AYI7ekQNEgVPRmHR7pbE',\n  'date': '2022-07-26T19:08:12+0200',\n  'events': [{'key': 'AYI7fQoY8T0OkyAITegf',\n    'category': 'QUALITY_PROFILE',\n    'name': \"Changes in 'Sonar way' (js)\"}],\n  'projectVersion': 'not provided',\n  'manualNewCodePeriodBaseline': False,\n  'revision': '7c45738700cc2f26e636c85f6b3070643630743f'},\n {'key': 'AYGrXQNn02ma5JRHQAi9',\n  'date': '2022-06-28T19:31:01+0200',\n  'events': [{'key': 'AYGrX-WIrO8Ftw45HnJ9',\n    'category': 'QUALITY_PROFILE',\n    'name': \"Changes in 'Sonar way' (js)\"}],\n  'projectVersion': 'not provided',\n  'manualNewCodePeriodBaseline': False,\n  'revision': '56fd07118ba4b36f995394d69816dc5a8862f704'},\n {'key': 'AYFiyWFZgqdQK0Ql7JlV',\n  'date': '2022-06-14T17:17:10+0200',\n  'events': [{'key': 'AYFizFaC4RzRT8JpxBWG',\n    'category': 'QUALITY_GATE',\n    'name': 'Green (was Red)',\n    'description': ''}],\n  'projectVersion': 'not provided',\n  'manualNewCodePeriodBaseline': False,\n  'revision': '26c209f8b46ccb69796bbc7a1e40792ef230ab89'},\n {'key': 'AYEpCZsBcEkIwGmrslJE',\n  'date': '2022-06-03T12:09:24+0200',\n  'events': [{'key': 'AYEpDLQqRITHJVzNt79Q',\n    'category': 'QUALITY_PROFILE',\n    'name': \"Changes in 'Sonar way' (js)\"}],\n  'projectVersion': 'not provided',\n  'manualNewCodePeriodBaseline': False,\n  'revision': '253515f3a5756e07522adab50cae2c2a84b7ed40'},\n {'key': 'AYDiCDBD-KiQ-MNU5Q7H',\n  'date': '2022-05-20T17:15:23+0200',\n  'events': [{'key': 'AYDiC8HTT0fBKjU9E3S2',\n    'category': 'QUALITY_GATE',\n    'name': 'Red (was Green)',\n    'description': 'Reliability Rating on New Code > 1'}],\n  'projectVersion': 'not provided',\n  'manualNewCodePeriodBaseline': False,\n  'revision': '484063bb1dad9177688a1342e4766791dfe34a9f'},\n {'key': 'AYCPuAZqhE3mUUv5elej',\n  'date': '2022-05-04T17:38:27+0200',\n  'events': [{'key': 'AYCPuvwR0DYbPaaB2UOi',\n    'category': 'QUALITY_PROFILE',\n    'name': \"Changes in 'Sonar way' (css)\"}],\n  'projectVersion': 'not provided',\n  'manualNewCodePeriodBaseline': False,\n  'revision': '6244ad93ce88f05390a506fec6109e14fcc5107e'},\n {'key': 'AYBLJNZa2eITsh6a-2Qs',\n  'date': '2022-04-21T10:03:59+0200',\n  'events': [{'key': 'AYBLKEAMnPnuYkc67LOY',\n    'category': 'QUALITY_PROFILE',\n    'name': \"Changes in 'Sonar way' (css)\"}],\n  'projectVersion': 'not provided',\n  'manualNewCodePeriodBaseline': False,\n  'revision': '389f90cbb60aeee3a9175e6b0fe999c28d82aa42'},\n {'key': 'AX_g-nfWtOw35JT6Zt9D',\n  'date': '2022-03-31T19:17:32+0200',\n  'events': [{'key': 'AX_g_a-0hx8K6RGbr3nE',\n    'category': 'QUALITY_PROFILE',\n    'name': \"Changes in 'Sonar way' (js)\"}],\n  'projectVersion': 'not provided',\n  'manualNewCodePeriodBaseline': False,\n  'revision': '0e6732b526ea5a077b5b4307843e03e38c672f67'},\n {'key': 'AX74Hof71SjmK4dqRmcP',\n  'date': '2022-02-14T13:05:48+0100',\n  'events': [{'key': 'AX74Iq3cG7ERZSZvd2cZ',\n    'category': 'QUALITY_PROFILE',\n    'name': \"Use 'Sonar way' (ruby)\"}],\n  'projectVersion': 'not provided',\n  'manualNewCodePeriodBaseline': False,\n  'revision': '88b5c40fdb754c978c8de409a6cf52e99261df70'},\n {'key': 'AX6lR3KBCNnYlLw3y5fx',\n  'date': '2022-01-29T11:01:47+0100',\n  'events': [],\n  'projectVersion': 'not provided',\n  'manualNewCodePeriodBaseline': False,\n  'revision': '7562476e1e7c6cf6bac2be96c74fcc2bf754a58d'},\n {'key': 'AX24rkP3XrmacMpEycra',\n  'date': '2021-12-14T12:24:18+0100',\n  'events': [{'key': 'AX24sNZHVCd41Ilrxvoe',\n    'category': 'QUALITY_PROFILE',\n    'name': \"Changes in 'Sonar way' (xml)\"}],\n  'projectVersion': 'not provided',\n  'manualNewCodePeriodBaseline': False,\n  'revision': '479e222bbb7ecb81fdbf123cc6cfcc10f8dbac4a'},\n {'key': 'AX2dy6Nit30LK1KFyISY',\n  'date': '2021-12-09T07:06:11+0100',\n  'events': [{'key': 'AX2dzfL_01pADkSo_vui',\n    'category': 'QUALITY_GATE',\n    'name': 'Green (was Red)',\n    'description': ''}],\n  'projectVersion': 'not provided',\n  'manualNewCodePeriodBaseline': False,\n  'revision': '25dc02412dc4398d88d9c6041b3aa32195556526'},\n {'key': 'AX1MJq4eOiY2EFqZO-pG',\n  'date': '2021-11-23T10:36:48+0100',\n  'events': [{'key': 'AX1MKT3DGqVqFWoeNTOr',\n    'category': 'QUALITY_PROFILE',\n    'name': \"Changes in 'Sonar way' (js)\"}],\n  'projectVersion': 'not provided',\n  'manualNewCodePeriodBaseline': False,\n  'revision': '05bd9caf1210e923d903348f7170dcbca175df8e'},\n {'key': 'AX0uYJ139z7mH-4t8oX7',\n  'date': '2021-11-17T15:51:26+0100',\n  'events': [{'key': 'AX0uYu3CqgSyCMcLn0i4',\n    'category': 'QUALITY_PROFILE',\n    'name': \"Changes in 'Sonar way' (js)\"}],\n  'projectVersion': 'not provided',\n  'manualNewCodePeriodBaseline': False,\n  'revision': 'dc8d6d504a87ed47ac12f705b8224e465edc7637'},\n {'key': 'AX0OBgIqBapLbQxLVkhi',\n  'date': '2021-11-11T09:04:39+0100',\n  'events': [{'key': 'AX0OCJ6aUlao2YZAFQ6J',\n    'category': 'QUALITY_GATE',\n    'name': 'Red (was Green)',\n    'description': 'Security Hotspots Reviewed on New Code < 100'}],\n  'projectVersion': 'not provided',\n  'manualNewCodePeriodBaseline': False,\n  'revision': 'a201894d5c93c66750d849350e10e21eaf9d1c85'},\n {'key': 'AXz1FRjFo7mvrxdblSTt',\n  'date': '2021-11-06T12:50:36+0100',\n  'events': [{'key': 'AXz1F7b90QLXO0pQdAi6',\n    'category': 'QUALITY_PROFILE',\n    'name': \"Changes in 'Sonar way' (js)\"}],\n  'projectVersion': 'not provided',\n  'manualNewCodePeriodBaseline': False,\n  'revision': 'd83603f0648b38310183a024d856fb25c9962a3b'},\n {'key': 'AXzCfe7h0cTMKCJyvMLx',\n  'date': '2021-10-27T18:04:31+0200',\n  'events': [{'key': 'AXzCgIMhYFXFZynEmpnJ',\n    'category': 'QUALITY_PROFILE',\n    'name': \"Changes in 'Sonar way' (xml)\"},\n   {'key': 'AXzCgIMhYFXFZynEmpnI',\n    'category': 'QUALITY_PROFILE',\n    'name': \"Changes in 'Sonar way' (js)\"}],\n  'projectVersion': 'not provided',\n  'manualNewCodePeriodBaseline': False,\n  'revision': '32d0a51db04696712e35512255fc40cc33be9c90'},\n {'key': 'AXx2Dq3C48m5mJsTrPQ-',\n  'date': '2021-10-12T21:51:49+0200',\n  'events': [{'key': 'AXx2EVWhG-Z28y74iVut',\n    'category': 'QUALITY_PROFILE',\n    'name': \"Use 'SonarQube Way' (json)\"}],\n  'projectVersion': 'not provided',\n  'manualNewCodePeriodBaseline': False,\n  'revision': '4bd30ce4d56f0ccda8e2b8ad06f9c8c1d3fa4a33'},\n {'key': 'AXvkMq1cA0zJdxB-7yHD',\n  'date': '2021-09-14T14:06:38+0200',\n  'events': [{'key': 'AXvkNQ8MNC7zjjhmIEyV',\n    'category': 'QUALITY_PROFILE',\n    'name': \"Changes in 'Sonar way' (js)\"}],\n  'projectVersion': 'not provided',\n  'manualNewCodePeriodBaseline': False,\n  'revision': 'dfb75fbcc73fc90b796680fad7d23e73a6c407cb'},\n {'key': 'AXsvvOhFmihG1NmDIJ4b',\n  'date': '2021-08-10T13:06:25+0200',\n  'events': [{'key': 'AXsvv6S0hD6mBAbr72sY',\n    'category': 'QUALITY_PROFILE',\n    'name': \"Changes in 'Sonar way' (js)\"}],\n  'projectVersion': 'not provided',\n  'manualNewCodePeriodBaseline': False,\n  'revision': '54acc03858eb28bb13dbf17c32d5e394b42ff869'},\n {'key': 'AXsapjv0mlAS3XseBNMU',\n  'date': '2021-08-06T10:49:19+0200',\n  'events': [{'key': 'AXsaqEP6otisgFkT2s7f',\n    'category': 'QUALITY_GATE',\n    'name': 'Green (was Red)',\n    'description': ''}],\n  'projectVersion': 'not provided',\n  'manualNewCodePeriodBaseline': False,\n  'revision': '9708d22afe8d77ebe93bda294d4216042f8c0784'},\n {'key': 'AXpjUBF3wreKt2ENlGZv',\n  'date': '2021-07-01T20:24:38+0200',\n  'events': [{'key': 'AXpjVQoSFFbwzvrERmAf',\n    'category': 'QUALITY_PROFILE',\n    'name': \"Changes in 'Sonar way' (js)\"}],\n  'projectVersion': 'not provided',\n  'manualNewCodePeriodBaseline': False,\n  'revision': '1aaa2e7751197314a20ad0a444b0d59c7c357d62'},\n {'key': 'AXpTV6g4lQtjOUrcTsSD',\n  'date': '2021-06-28T17:59:05+0200',\n  'events': [{'key': 'AXpTXKCmxmPZbA_wPaL6',\n    'category': 'QUALITY_GATE',\n    'name': 'Red (was Green)',\n    'description': 'Reliability Rating on New Code > 1'}],\n  'projectVersion': 'not provided',\n  'manualNewCodePeriodBaseline': False,\n  'revision': '8c8a56099ba2e83649703b898a1cba81d067601d'},\n {'key': 'AXnwajLqIi8IoFEdvUSx',\n  'date': '2021-06-09T12:57:22+0200',\n  'events': [{'key': 'AXnwb1TYD9b1Owwch1AF',\n    'category': 'QUALITY_PROFILE',\n    'name': \"Changes in 'Sonar way' (js)\"}],\n  'projectVersion': 'not provided',\n  'manualNewCodePeriodBaseline': False,\n  'revision': '4bab66e5016c1dd758127bb9d5b5a4e136d03773'},\n {'key': 'AXms51EHjuIY6Jkovho3',\n  'date': '2021-05-27T10:19:24+0200',\n  'events': [{'key': 'AXms7EWrYwgBHQQK0vke',\n    'category': 'QUALITY_PROFILE',\n    'name': \"Changes in 'Sonar way' (css)\"}],\n  'projectVersion': 'not provided',\n  'manualNewCodePeriodBaseline': False,\n  'revision': 'a7f4f8209b39acb9432fe8b3a275102552486cbe'},\n {'key': 'AXk3ssfOMsQtvQ8HdB6V',\n  'date': '2021-05-04T16:06:29+0200',\n  'events': [{'key': 'AXk3uW7tDEVlElxzTBrD',\n    'category': 'QUALITY_PROFILE',\n    'name': \"Changes in 'Sonar way' (js)\"}],\n  'projectVersion': 'not provided',\n  'manualNewCodePeriodBaseline': False,\n  'revision': '462b871f186d0fc9623bc9f059ca5e5ddf1f9907'},\n {'key': 'AXk2hZwO8fvD0QcSPbss',\n  'date': '2021-05-04T10:37:35+0200',\n  'events': [{'key': 'AXk2irqbeE6mCOUuA2BG',\n    'category': 'QUALITY_PROFILE',\n    'name': \"Changes in 'Sonar way' (js)\"}],\n  'projectVersion': 'not provided',\n  'manualNewCodePeriodBaseline': False,\n  'revision': '45f50c910d64c12a2601164fbc64a4a02ef1d833'},\n {'key': 'AXko38QHWTyZGKRljx6T',\n  'date': '2021-05-01T19:01:19+0200',\n  'events': [{'key': 'AXko5d9OmEhMuAAUQqIl',\n    'category': 'QUALITY_PROFILE',\n    'name': \"Changes in 'Sonar way' (php)\"},\n   {'key': 'AXko5d9OmEhMuAAUQqIk',\n    'category': 'QUALITY_PROFILE',\n    'name': \"Changes in 'Sonar way' (js)\"}],\n  'projectVersion': 'not provided',\n  'manualNewCodePeriodBaseline': False,\n  'revision': '3f2fbc6f72a27afda4580441223b0ea62f06fc54'},\n {'key': 'AXjABXR0lZUPjBgYblBt',\n  'date': '2021-04-11T10:22:25+0200',\n  'events': [{'key': 'AXjAC1aKzHMUitPsZF9L',\n    'category': 'QUALITY_PROFILE',\n    'name': \"Changes in 'Sonar way' (js)\"}],\n  'projectVersion': 'not provided',\n  'manualNewCodePeriodBaseline': False,\n  'revision': '391b3707610ce204725a61ceb2e7940babdf30dd'},\n {'key': 'AXhzT3uCNIKj0PPhJGCR',\n  'date': '2021-03-27T11:52:37+0100',\n  'events': [{'key': 'AXhzVnYZQwDjiPAyea9O',\n    'category': 'QUALITY_GATE',\n    'name': 'Green (was Red)',\n    'description': ''}],\n  'projectVersion': 'not provided',\n  'manualNewCodePeriodBaseline': False,\n  'revision': '933c3e0bc6bc29d142f0ed9f922f0332bcb76df6'},\n {'key': 'AXhvwJ4qPUU6HRnP1K-k',\n  'date': '2021-03-26T20:13:02+0100',\n  'events': [{'key': 'AXhv-fesQocKC9FrrNGp',\n    'category': 'QUALITY_PROFILE',\n    'name': \"Changes in 'Sonar way' (js)\"},\n   {'key': 'AXhv-fesQocKC9FrrNGo',\n    'category': 'QUALITY_PROFILE',\n    'name': \"Changes in 'Sonar way' (php)\"}],\n  'projectVersion': 'not provided',\n  'manualNewCodePeriodBaseline': False,\n  'revision': 'e3ec08bddcbfbf0ffe68b0579c5b29b022baa196'},\n {'key': 'AXfzpV9sELm08_GyX10n',\n  'date': '2021-03-02T16:54:57+0100',\n  'events': [{'key': 'AXfzqvQ9DUGcNObJAHgN',\n    'category': 'QUALITY_GATE',\n    'name': 'Red (was Green)',\n    'description': 'Security Hotspots Reviewed on New Code < 100'}],\n  'projectVersion': 'not provided',\n  'manualNewCodePeriodBaseline': False,\n  'revision': '2ff0aec54e741aaf64c53738a622e4c0f47dc425'}]"
     },
     "execution_count": 51,
     "metadata": {},
     "output_type": "execute_result"
    }
   ],
   "source": [
    "initial_json['analyses']"
   ],
   "metadata": {
    "collapsed": false
   }
  },
  {
   "cell_type": "markdown",
   "source": [
    "# DIFFERENT REQUEST APPROACH \"api/issues\""
   ],
   "metadata": {
    "collapsed": false
   }
  },
  {
   "cell_type": "code",
   "execution_count": 36,
   "outputs": [],
   "source": [
    "responseIssues = requests.get(\"https://sonarcloud.io/api/issues/search?projects=apache_ofbiz-framework\", headers=headers)"
   ],
   "metadata": {
    "collapsed": false
   }
  },
  {
   "cell_type": "code",
   "execution_count": 39,
   "outputs": [],
   "source": [
    "# It's organized through pagination.\n",
    "issues_json = responseIssues.json()"
   ],
   "metadata": {
    "collapsed": false
   }
  },
  {
   "cell_type": "code",
   "execution_count": 89,
   "outputs": [
    {
     "name": "stdout",
     "output_type": "stream",
     "text": [
      "dict_keys(['total', 'p', 'ps', 'paging', 'effortTotal', 'debtTotal', 'issues', 'components', 'organizations', 'facets'])\n"
     ]
    },
    {
     "data": {
      "text/plain": "[{'organization': 'apache',\n  'key': 'apache_ofbiz-framework:framework/service/config/serviceengine.xml',\n  'uuid': 'AW41kPXBEYqG7NkuYTpz',\n  'enabled': True,\n  'qualifier': 'FIL',\n  'name': 'serviceengine.xml',\n  'longName': 'framework/service/config/serviceengine.xml',\n  'path': 'framework/service/config/serviceengine.xml'},\n {'organization': 'apache',\n  'key': 'apache_ofbiz-framework:themes/helveticus/webapp/helveticus/js/helveticus.js',\n  'uuid': 'AXpTXIKyxmPZbA_wPaLb',\n  'enabled': True,\n  'qualifier': 'FIL',\n  'name': 'helveticus.js',\n  'longName': 'themes/helveticus/webapp/helveticus/js/helveticus.js',\n  'path': 'themes/helveticus/webapp/helveticus/js/helveticus.js'},\n {'organization': 'apache',\n  'key': 'apache_ofbiz-framework:themes/helveticus/webapp/helveticus/js/OfbizUtil.js',\n  'uuid': 'AXtkPXmYu_mzXEs0uhVd',\n  'enabled': True,\n  'qualifier': 'FIL',\n  'name': 'OfbizUtil.js',\n  'longName': 'themes/helveticus/webapp/helveticus/js/OfbizUtil.js',\n  'path': 'themes/helveticus/webapp/helveticus/js/OfbizUtil.js'},\n {'organization': 'apache',\n  'key': 'apache_ofbiz-framework:applications/accounting/servicedef/services_fixedasset.xml',\n  'uuid': 'AW41kPW8EYqG7NkuYTTf',\n  'enabled': True,\n  'qualifier': 'FIL',\n  'name': 'services_fixedasset.xml',\n  'longName': 'applications/accounting/servicedef/services_fixedasset.xml',\n  'path': 'applications/accounting/servicedef/services_fixedasset.xml'},\n {'organization': 'apache',\n  'key': 'apache_ofbiz-framework:framework/webtools/widget/EntityScreens.xml',\n  'uuid': 'AW41kPXBEYqG7NkuYTqd',\n  'enabled': True,\n  'qualifier': 'FIL',\n  'name': 'EntityScreens.xml',\n  'longName': 'framework/webtools/widget/EntityScreens.xml',\n  'path': 'framework/webtools/widget/EntityScreens.xml'},\n {'organization': 'apache',\n  'key': 'apache_ofbiz-framework:themes/common-theme/webapp/common-theme/js/plugins/jsgantt/jsgantt.js',\n  'uuid': 'AX74Im7NG7ERZSZvd19y',\n  'enabled': True,\n  'qualifier': 'FIL',\n  'name': 'jsgantt.js',\n  'longName': 'themes/common-theme/webapp/common-theme/js/plugins/jsgantt/jsgantt.js',\n  'path': 'themes/common-theme/webapp/common-theme/js/plugins/jsgantt/jsgantt.js'},\n {'organization': 'apache',\n  'key': 'apache_ofbiz-framework:framework/common/webcommon/WEB-INF/handlers-controller.xml',\n  'uuid': 'AW41kPXAEYqG7NkuYTod',\n  'enabled': True,\n  'qualifier': 'FIL',\n  'name': 'handlers-controller.xml',\n  'longName': 'framework/common/webcommon/WEB-INF/handlers-controller.xml',\n  'path': 'framework/common/webcommon/WEB-INF/handlers-controller.xml'},\n {'organization': 'apache',\n  'key': 'apache_ofbiz-framework:framework/service/testdef/servicetests.xml',\n  'uuid': 'AW41kPXBEYqG7NkuYTpg',\n  'enabled': True,\n  'qualifier': 'FIL',\n  'name': 'servicetests.xml',\n  'longName': 'framework/service/testdef/servicetests.xml',\n  'path': 'framework/service/testdef/servicetests.xml'},\n {'organization': 'apache',\n  'key': 'apache_ofbiz-framework:themes/common-theme/webapp/common-theme/js/plugins/date/FromThruDateCheck.js',\n  'uuid': 'AX74Im7NG7ERZSZvd19v',\n  'enabled': True,\n  'qualifier': 'FIL',\n  'name': 'FromThruDateCheck.js',\n  'longName': 'themes/common-theme/webapp/common-theme/js/plugins/date/FromThruDateCheck.js',\n  'path': 'themes/common-theme/webapp/common-theme/js/plugins/date/FromThruDateCheck.js'},\n {'organization': 'apache',\n  'key': 'apache_ofbiz-framework:themes/common-theme/webapp/common-theme/js/util/application.js',\n  'uuid': 'AX74Im7OG7ERZSZvd2Aw',\n  'enabled': True,\n  'qualifier': 'FIL',\n  'name': 'application.js',\n  'longName': 'themes/common-theme/webapp/common-theme/js/util/application.js',\n  'path': 'themes/common-theme/webapp/common-theme/js/util/application.js'},\n {'organization': 'apache',\n  'key': 'apache_ofbiz-framework:themes/common-theme/webapp/common-theme/js/util/OfbizUtil.js',\n  'uuid': 'AX74Im7OG7ERZSZvd2Ax',\n  'enabled': True,\n  'qualifier': 'FIL',\n  'name': 'OfbizUtil.js',\n  'longName': 'themes/common-theme/webapp/common-theme/js/util/OfbizUtil.js',\n  'path': 'themes/common-theme/webapp/common-theme/js/util/OfbizUtil.js'},\n {'organization': 'apache',\n  'key': 'apache_ofbiz-framework:themes/common-theme/webapp/common-theme/js/util/setUserTimeZone.js',\n  'uuid': 'AX74Im7OG7ERZSZvd2Av',\n  'enabled': True,\n  'qualifier': 'FIL',\n  'name': 'setUserTimeZone.js',\n  'longName': 'themes/common-theme/webapp/common-theme/js/util/setUserTimeZone.js',\n  'path': 'themes/common-theme/webapp/common-theme/js/util/setUserTimeZone.js'},\n {'organization': 'apache',\n  'key': 'apache_ofbiz-framework:config/checkstyle/checkstyle.xml',\n  'uuid': 'AW41kPXCEYqG7NkuYTvt',\n  'enabled': True,\n  'qualifier': 'FIL',\n  'name': 'checkstyle.xml',\n  'longName': 'config/checkstyle/checkstyle.xml',\n  'path': 'config/checkstyle/checkstyle.xml'},\n {'organization': 'apache',\n  'key': 'apache_ofbiz-framework:framework/common/servicedef/services_test.xml',\n  'uuid': 'AW41kPXAEYqG7NkuYTnj',\n  'enabled': True,\n  'qualifier': 'FIL',\n  'name': 'services_test.xml',\n  'longName': 'framework/common/servicedef/services_test.xml',\n  'path': 'framework/common/servicedef/services_test.xml'},\n {'organization': 'apache',\n  'key': 'apache_ofbiz-framework:themes/common-theme/webapp/common-theme/js/util/fieldlookup.js',\n  'uuid': 'AX74Im7OG7ERZSZvd2A0',\n  'enabled': True,\n  'qualifier': 'FIL',\n  'name': 'fieldlookup.js',\n  'longName': 'themes/common-theme/webapp/common-theme/js/util/fieldlookup.js',\n  'path': 'themes/common-theme/webapp/common-theme/js/util/fieldlookup.js'},\n {'organization': 'apache',\n  'key': 'apache_ofbiz-framework:themes/helveticus/webapp/helveticus/helveticus-main-theme.less',\n  'uuid': 'AXpTXIKyxmPZbA_wPaLW',\n  'enabled': True,\n  'qualifier': 'FIL',\n  'name': 'helveticus-main-theme.less',\n  'longName': 'themes/helveticus/webapp/helveticus/helveticus-main-theme.less',\n  'path': 'themes/helveticus/webapp/helveticus/helveticus-main-theme.less'},\n {'organization': 'apache',\n  'key': 'apache_ofbiz-framework:themes/helveticus/webapp/helveticus/stylertl.css',\n  'uuid': 'AXpTXIKyxmPZbA_wPaLY',\n  'enabled': True,\n  'qualifier': 'FIL',\n  'name': 'stylertl.css',\n  'longName': 'themes/helveticus/webapp/helveticus/stylertl.css',\n  'path': 'themes/helveticus/webapp/helveticus/stylertl.css'},\n {'organization': 'apache',\n  'key': 'apache_ofbiz-framework:applications/datamodel/data/demo/GlAccountDemoData.xml',\n  'uuid': 'AXu7wpFs8RqRi11p5BzD',\n  'enabled': True,\n  'qualifier': 'FIL',\n  'name': 'GlAccountDemoData.xml',\n  'longName': 'applications/datamodel/data/demo/GlAccountDemoData.xml',\n  'path': 'applications/datamodel/data/demo/GlAccountDemoData.xml'},\n {'organization': 'apache',\n  'key': 'apache_ofbiz-framework',\n  'uuid': 'AWodoDVOcuf6R8N43hx-',\n  'enabled': True,\n  'qualifier': 'TRK',\n  'name': 'ofbiz-framework',\n  'longName': 'ofbiz-framework'},\n {'organization': 'apache',\n  'key': 'apache_ofbiz-framework:themes/helveticus/webapp/helveticus/javascript.css',\n  'uuid': 'AXpTXIKyxmPZbA_wPaLV',\n  'enabled': True,\n  'qualifier': 'FIL',\n  'name': 'javascript.css',\n  'longName': 'themes/helveticus/webapp/helveticus/javascript.css',\n  'path': 'themes/helveticus/webapp/helveticus/javascript.css'}]"
     },
     "execution_count": 89,
     "metadata": {},
     "output_type": "execute_result"
    }
   ],
   "source": [
    "print(issues_json.keys())\n",
    "issues_json['components']"
   ],
   "metadata": {
    "collapsed": false
   }
  },
  {
   "cell_type": "markdown",
   "source": [
    "# DIFFERENT REQUEST APPROACH \"api/measures\""
   ],
   "metadata": {
    "collapsed": false
   }
  },
  {
   "cell_type": "code",
   "execution_count": 87,
   "outputs": [],
   "source": [
    "responseMeasures = requests.get(\"https://sonarcloud.io/api/measures/component?my_project=apache_ofbiz-framework\", headers=headers)"
   ],
   "metadata": {
    "collapsed": false
   }
  },
  {
   "cell_type": "code",
   "execution_count": 88,
   "outputs": [
    {
     "data": {
      "text/plain": "<Response [400]>"
     },
     "execution_count": 88,
     "metadata": {},
     "output_type": "execute_result"
    }
   ],
   "source": [
    "responseMeasures"
   ],
   "metadata": {
    "collapsed": false
   }
  }
 ],
 "metadata": {
  "kernelspec": {
   "display_name": "Python 3",
   "language": "python",
   "name": "python3"
  },
  "language_info": {
   "codemirror_mode": {
    "name": "ipython",
    "version": 2
   },
   "file_extension": ".py",
   "mimetype": "text/x-python",
   "name": "python",
   "nbconvert_exporter": "python",
   "pygments_lexer": "ipython2",
   "version": "2.7.6"
  }
 },
 "nbformat": 4,
 "nbformat_minor": 0
}
