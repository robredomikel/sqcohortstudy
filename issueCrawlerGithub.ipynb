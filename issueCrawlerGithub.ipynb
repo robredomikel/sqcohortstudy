{
 "cells": [
  {
   "cell_type": "code",
   "execution_count": null,
   "metadata": {
    "collapsed": true
   },
   "outputs": [],
   "source": [
    "import os\n",
    "import requests\n",
    "import pandas as pd\n",
    "import numpy as np\n",
    "import csv"
   ]
  },
  {
   "cell_type": "code",
   "execution_count": null,
   "outputs": [],
   "source": [
    "# Project names obtained from the reposiroty crawling in GitHub with the apacheGitHub notebook.\n",
    "repos_github = pd.read_csv(\"/home/mikel/Desktop/project1/cleanRepos070223.csv\")\n",
    "github_fullNames = list(repos_github['full_name'])"
   ],
   "metadata": {
    "collapsed": false
   }
  },
  {
   "cell_type": "code",
   "execution_count": null,
   "outputs": [],
   "source": [
    "'''\n",
    "PARAM: Receives the full name of the project repository \"apache/{repo}\"\n",
    "RETURN: The GitHub project ID of the project.\n",
    "'''\n",
    "def getProjectId(projectfullname):\n",
    "\n",
    "    name = projectfullname + \".csv\"\n",
    "\n",
    "    projectFile = pd.read_csv('/home/mikel/Desktop/project1/githubIssueTables(UnixEpochs)/' + name)\n",
    "\n",
    "    return projectFile['project_id'][0]"
   ],
   "metadata": {
    "collapsed": false
   }
  },
  {
   "cell_type": "code",
   "execution_count": null,
   "outputs": [],
   "source": [
    "personal_token = \"\"\n",
    "token = os.getenv('GITHUB_TOKEN', personal_token)\n",
    "headers = {'Authorization': f'token {token}'}\n",
    "\n",
    "'''\n",
    "PARAM: projectFullName - Receives the full name of the project repository \"apache/{repo}\"\n",
    "       tableToUpdate - Receives the partial location of the project file regarding issue data and\n",
    "                       updates its information\n",
    "\n",
    "RETURN: Rerites the file in question.\n",
    "'''\n",
    "def makeIssueTable(projectFullName,tableToUpdate):\n",
    "\n",
    "    # API call url\n",
    "    theIssueQuery = f\"https://api.github.com/repos/{projectFullName}/issues\"\n",
    "    params = {'per_page': 100, 'state': 'all'}\n",
    "    page = 1\n",
    "\n",
    "    projectissuedataitems = []\n",
    "    # Headers of the file to be updated\n",
    "    issue_feature_list = ['project_id', 'issue_id', 'number', 'user_login', 'user_type', 'state', 'locked', 'created_at', 'updated_at', 'closed_at', 'active_time', 'title', 'body', 'milestone_url', 'comments', 'pull_request']\n",
    "\n",
    "    with open(f\"/home/mikel/Desktop/project1/{tableToUpdate}\", 'w', encoding='utf-8') as file:\n",
    "        writer = csv.writer(file, delimiter=',')\n",
    "        writer.writerow([x for x in issue_feature_list])\n",
    "        file.close()\n",
    "\n",
    "    while 1 == 1:\n",
    "        params['page'] = page\n",
    "        print(projectFullName+' '+'page '+str(page))\n",
    "        theResult = requests.get(theIssueQuery, headers=headers, params=params)\n",
    "        theItemListPerPage = theResult.json()\n",
    "\n",
    "        project_id = getProjectId(projectFullName)\n",
    "\n",
    "        if len(theItemListPerPage) == 0: # If there's nothing in request.\n",
    "            break\n",
    "        else:\n",
    "            for item in theItemListPerPage:\n",
    "                issueItem = {}\n",
    "                issueItem['project_id'] = project_id\n",
    "                issueItem['issue_id'] = item['id']\n",
    "                issueItem['number'] = item['number']\n",
    "                issueItem['user_login'] = item['user']['login']\n",
    "                issueItem['user_type'] = item['user']['type']\n",
    "                issueItem['state'] = item['state']\n",
    "                issueItem['locked'] = item['locked']\n",
    "\n",
    "                # pd.to_datetime() -> converts a scalar, array-like, Series or DataFrame/dict-like to a pandas datetime object. (utc -> TRUE the function always returns a timezone-aware UTC-localized Timestamp)\n",
    "                # pd.timestamp() -> It’s the type used for the entries that make up a DatetimeIndex, and other timeseries oriented data structures in pandas.\n",
    "                # pd.tz_localize() -> Localize tz-naive index of a Series or DataFrame to target time zone.\n",
    "                # // -> Floor division\n",
    "                # pd.Timedelta() -> Represents a duration, the difference between two dates or times.\n",
    "                issueItem['created_at'] = (pd.to_datetime(item['created_at'], utc=True)- pd.Timestamp(\"1970-01-01\").tz_localize('UTC'))// pd.Timedelta('1s')\n",
    "                if item['updated_at'] == None:\n",
    "                    issueItem['updated_at'] = np.NaN\n",
    "                else:\n",
    "                    issueItem['updated_at'] = (pd.to_datetime(item['updated_at'], utc=True)- pd.Timestamp(\"1970-01-01\").tz_localize('UTC'))// pd.Timedelta('1s')\n",
    "                if item['closed_at'] == None:\n",
    "                    issueItem['closed_at'] = np.NaN\n",
    "                else:\n",
    "                    issueItem['closed_at'] = (pd.to_datetime(item['closed_at'], utc=True)- pd.Timestamp(\"1970-01-01\").tz_localize('UTC'))// pd.Timedelta('1s')\n",
    "                if issueItem['state'] == 'closed':\n",
    "                    issueItem['active_time'] = issueItem['closed_at'] - issueItem['created_at']\n",
    "                else:\n",
    "                    if not issueItem['updated_at']:\n",
    "                        issueItem['active_time'] = 0\n",
    "                    else:\n",
    "                        issueItem['active_time'] = issueItem['updated_at'] - issueItem['created_at']\n",
    "                issueItem['title'] = item['title']\n",
    "                issueItem['body'] = item['body']\n",
    "                if item['milestone'] == None:\n",
    "                    issueItem['milestone_url'] = False\n",
    "                else:\n",
    "                    issueItem['milestone_url'] = True\n",
    "                issueItem['comments'] = item['comments']\n",
    "                if 'pull_request' in list(item.keys()):\n",
    "                    issueItem['pull_request'] = True\n",
    "                else:\n",
    "                    issueItem['pull_request'] = False\n",
    "                projectissuedataitems.append(issueItem)\n",
    "                with open(f\"/home/mikel/Desktop/project1/{tableToUpdate}\", 'a', encoding='utf-8') as file:\n",
    "                    writer = csv.writer(file, delimiter=',')\n",
    "                    writer.writerow([issueItem[x] for x in issue_feature_list])\n",
    "            page += 1"
   ],
   "metadata": {
    "collapsed": false
   }
  },
  {
   "cell_type": "code",
   "execution_count": null,
   "outputs": [],
   "source": [
    "for i in range(len(github_fullNames)):\n",
    "\n",
    "    tableToUpdate = f\"githubIssueTables(UnixEpochs)/{github_fullNames[i][7:]}.csv\"\n",
    "    makeIssueTable(github_fullNames[i],tableToUpdate)"
   ],
   "metadata": {
    "collapsed": false
   }
  }
 ],
 "metadata": {
  "kernelspec": {
   "display_name": "Python 3",
   "language": "python",
   "name": "python3"
  },
  "language_info": {
   "codemirror_mode": {
    "name": "ipython",
    "version": 2
   },
   "file_extension": ".py",
   "mimetype": "text/x-python",
   "name": "python",
   "nbconvert_exporter": "python",
   "pygments_lexer": "ipython2",
   "version": "2.7.6"
  }
 },
 "nbformat": 4,
 "nbformat_minor": 0
}
