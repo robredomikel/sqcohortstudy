{
 "cells": [
  {
   "cell_type": "code",
   "execution_count": 1,
   "metadata": {
    "collapsed": true,
    "ExecuteTime": {
     "start_time": "2023-04-27T00:39:58.668294Z",
     "end_time": "2023-04-27T00:40:00.691641Z"
    }
   },
   "outputs": [],
   "source": [
    "import pandas as pd\n",
    "import numpy as np\n",
    "import matplotlib.pyplot as plt"
   ]
  },
  {
   "cell_type": "code",
   "execution_count": 53,
   "outputs": [
    {
     "name": "stderr",
     "output_type": "stream",
     "text": [
      "/tmp/ipykernel_3747/3769708418.py:13: SettingWithCopyWarning: \n",
      "A value is trying to be set on a copy of a slice from a DataFrame\n",
      "\n",
      "See the caveats in the documentation: https://pandas.pydata.org/pandas-docs/stable/user_guide/indexing.html#returning-a-view-versus-a-copy\n",
      "  df['#extensions'][i] = 'one'\n"
     ]
    }
   ],
   "source": [
    "df = pd.read_csv('/home/mikel/Desktop/project1/resultFiles/SQ_cohort_data_in_days.csv')\n",
    "\n",
    "frequencies = df['root_project'].value_counts()\n",
    "projects = frequencies.axes[0]\n",
    "\n",
    "df['#extensions'] = np.nan\n",
    "\n",
    "\n",
    "for i in range(0, len(df)):\n",
    "\n",
    "    project_name = df['root_project'][i]\n",
    "    if frequencies[project_name] == 1: # The root project has only one extension file.\n",
    "        df['#extensions'][i] = 'one'\n",
    "    elif frequencies[project_name] == 2: # The root project has two extension files.\n",
    "        df['#extensions'][i] = 'two'\n",
    "    elif (2 < frequencies[project_name]) and (frequencies[project_name] < 10):\n",
    "        df['#extensions'][i] = 'medium'\n",
    "    else:\n",
    "        df['#extensions'][i] = 'big'\n",
    "\n",
    "df.to_csv('/home/mikel/Desktop/project1/resultFiles/SQ_cohort_data_in_days.csv')"
   ],
   "metadata": {
    "collapsed": false,
    "ExecuteTime": {
     "start_time": "2023-04-27T01:37:29.938885Z",
     "end_time": "2023-04-27T01:37:30.041099Z"
    }
   }
  }
 ],
 "metadata": {
  "kernelspec": {
   "display_name": "Python 3",
   "language": "python",
   "name": "python3"
  },
  "language_info": {
   "codemirror_mode": {
    "name": "ipython",
    "version": 2
   },
   "file_extension": ".py",
   "mimetype": "text/x-python",
   "name": "python",
   "nbconvert_exporter": "python",
   "pygments_lexer": "ipython2",
   "version": "2.7.6"
  }
 },
 "nbformat": 4,
 "nbformat_minor": 0
}
